{
  "nbformat": 4,
  "nbformat_minor": 0,
  "metadata": {
    "colab": {
      "name": "GillianOHea_FinalProject.ipynb",
      "provenance": [],
      "collapsed_sections": []
    },
    "kernelspec": {
      "name": "python3",
      "display_name": "Python 3"
    },
    "language_info": {
      "name": "python"
    }
  },
  "cells": [
    {
      "cell_type": "code",
      "execution_count": 1,
      "metadata": {
        "id": "Ktl2IdsLLRHp",
        "colab": {
          "base_uri": "https://localhost:8080/"
        },
        "outputId": "832e38f2-2b4c-4230-cc59-2d873d29d7ea"
      },
      "outputs": [
        {
          "output_type": "stream",
          "name": "stdout",
          "text": [
            "Looking in indexes: https://pypi.org/simple, https://us-python.pkg.dev/colab-wheels/public/simple/\n",
            "Requirement already satisfied: pandas in /usr/local/lib/python3.7/dist-packages (1.3.5)\n",
            "Requirement already satisfied: numpy>=1.17.3 in /usr/local/lib/python3.7/dist-packages (from pandas) (1.21.6)\n",
            "Requirement already satisfied: pytz>=2017.3 in /usr/local/lib/python3.7/dist-packages (from pandas) (2022.1)\n",
            "Requirement already satisfied: python-dateutil>=2.7.3 in /usr/local/lib/python3.7/dist-packages (from pandas) (2.8.2)\n",
            "Requirement already satisfied: six>=1.5 in /usr/local/lib/python3.7/dist-packages (from python-dateutil>=2.7.3->pandas) (1.15.0)\n"
          ]
        }
      ],
      "source": [
        "pip install pandas\n",
        "#install pandas if not already installed"
      ]
    },
    {
      "cell_type": "code",
      "source": [
        "#import my csv file from github and then print the head to make sure it imported ok/looks ok\n",
        "\n",
        "import pandas as pd\n",
        "\n",
        "df = pd.read_csv('https://raw.githubusercontent.com/oheag2/UCDPA_GillianOHea/main/work_life.csv?token=GHSAT0AAAAAABUP7HD2AIWNDM2PG44FIPB2YU5YCPA')\n",
        "\n",
        "print(df.head())"
      ],
      "metadata": {
        "id": "uGMMc4O0N_ug"
      },
      "execution_count": null,
      "outputs": []
    }
  ]
}